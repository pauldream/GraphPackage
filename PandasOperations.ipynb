{
 "cells": [
  {
   "cell_type": "markdown",
   "metadata": {},
   "source": [
    "## Use pandas to process data using several basic operations"
   ]
  },
  {
   "cell_type": "code",
   "execution_count": 91,
   "metadata": {
    "collapsed": true
   },
   "outputs": [],
   "source": [
    "import numpy as np\n",
    "import pandas as pd"
   ]
  },
  {
   "cell_type": "markdown",
   "metadata": {},
   "source": [
    "### Update column names and Obtain the set of unique values of a particular column"
   ]
  },
  {
   "cell_type": "code",
   "execution_count": 130,
   "metadata": {},
   "outputs": [
    {
     "name": "stdout",
     "output_type": "stream",
     "text": [
      " \n",
      "Columns names:  Index([u'Origin', u'Destination', u'Quantity', u'Departure_Time',\n",
      "       u'Arrival_Time'],\n",
      "      dtype='object')\n",
      "\n",
      "Origin Set: [u'AA' u'BB' u'CC' u'DD']\n",
      "\n",
      "Destination Set: [u'ABC' u'DEF' u'GHI' u'JKL' u'MNO' u'PQR' u'VWX' u'STU']\n",
      "\n",
      "Example rows of original data:\n",
      "  Origin Destination  Quantity Departure_Time   Arrival_Time\n",
      "0     AA         ABC        24    1/3/17 4:00   1/5/17 23:24\n",
      "1     AA         ABC        24    1/3/17 4:00   1/5/17 23:24\n",
      "2     AA         ABC        24    1/3/17 4:00   1/5/17 23:24\n",
      "3     AA         ABC        12    1/3/17 4:00  1/19/17 15:42\n"
     ]
    }
   ],
   "source": [
    "# read input file\n",
    "input_file = 'data/pandas_data_example.csv'\n",
    "orders = pd.read_csv(input_file, encoding='utf-8-sig')\n",
    "\n",
    "# update column name\n",
    "newColumns = {'Departure': 'Departure_Time', 'Arrival': 'Arrival_Time'}\n",
    "orders.rename(columns=newColumns, inplace=True)\n",
    "print '\\nColumns names: ', orders.columns\n",
    "\n",
    "# print the set of unique values of a particular column\n",
    "originSet = orders['Origin'].unique()\n",
    "destinationSet = orders['Destination'].unique()\n",
    "print '\\nOrigin Set:', originSet\n",
    "print '\\nDestination Set:', destinationSet\n",
    "print '\\nExample rows of original data:\\n', orders.iloc[0:4]"
   ]
  },
  {
   "cell_type": "markdown",
   "metadata": {},
   "source": [
    "### Iterate through the DataFrame"
   ]
  },
  {
   "cell_type": "code",
   "execution_count": 135,
   "metadata": {},
   "outputs": [
    {
     "name": "stdout",
     "output_type": "stream",
     "text": [
      "384 AA GHI 272\n",
      "385 BB GHI 198\n",
      "386 BB GHI 168\n",
      "387 BB GHI 60\n",
      "388 BB GHI 24\n",
      "389 CC GHI 66\n",
      "390 CC GHI 6\n",
      "391 CC GHI 54\n",
      "392 CC GHI 120\n",
      "393 CC GHI 187\n",
      "394 CC GHI 114\n",
      "395 CC GHI 60\n",
      "396 CC GHI 90\n",
      "397 CC GHI 402\n",
      "398 CC GHI 58\n",
      "399 CC GHI 18\n"
     ]
    }
   ],
   "source": [
    "for index, row in orders.iterrows():\n",
    "    if row['Destination'] == 'GHI':\n",
    "        print index, row['Origin'], row['Destination'], row['Quantity']"
   ]
  },
  {
   "cell_type": "markdown",
   "metadata": {},
   "source": [
    "### Obtain the origins with the largest quantities"
   ]
  },
  {
   "cell_type": "code",
   "execution_count": 128,
   "metadata": {},
   "outputs": [
    {
     "name": "stdout",
     "output_type": "stream",
     "text": [
      "['CCCC' 'DDDD' 'BBBB']\n"
     ]
    }
   ],
   "source": [
    "ordersByOrigin = orders.groupby(by=['Origin'])['Quantity'].sum().reset_index()\n",
    "ordersByOrigin.sort_values(by=['Quantity'], ascending=False, inplace=True)\n",
    "origins = ordersByOrigin.head(3)['Origin']\n",
    "print origins.values"
   ]
  },
  {
   "cell_type": "markdown",
   "metadata": {},
   "source": [
    "### Apply function to a particular column"
   ]
  },
  {
   "cell_type": "code",
   "execution_count": 93,
   "metadata": {},
   "outputs": [
    {
     "name": "stdout",
     "output_type": "stream",
     "text": [
      "\n",
      "Data after updating column names:\n",
      "  Origin Destination  Quantity Departure_Time   Arrival_Time\n",
      "0   AAAA         ABC        24    1/3/17 4:00   1/5/17 23:24\n",
      "1   AAAA         ABC        24    1/3/17 4:00   1/5/17 23:24\n",
      "2   AAAA         ABC        24    1/3/17 4:00   1/5/17 23:24\n",
      "3   AAAA         ABC        12    1/3/17 4:00  1/19/17 15:42\n"
     ]
    }
   ],
   "source": [
    "## apply function to a particular column\n",
    "newOriginSet = ['AAAA', 'BBBB', 'CCCC', 'DDDD']\n",
    "originMap = {x : y for (x, y) in zip(originSet, newOriginSet)} # dict(zip(originSet, newOriginSet))\n",
    "orders['Origin'] = orders['Origin'].apply(lambda x: originMap[x] if x in originMap else x)\n",
    "print '\\nData after updating column names:\\n', orders.iloc[0:4]"
   ]
  },
  {
   "cell_type": "markdown",
   "metadata": {},
   "source": [
    "### Filter data under some criteria"
   ]
  },
  {
   "cell_type": "code",
   "execution_count": 94,
   "metadata": {},
   "outputs": [
    {
     "name": "stdout",
     "output_type": "stream",
     "text": [
      "\n",
      "Data after filtering:\n",
      "  Origin Destination  Quantity Departure_Time   Arrival_Time\n",
      "0   AAAA         ABC        24    1/3/17 4:00   1/5/17 23:24\n",
      "1   AAAA         ABC        24    1/3/17 4:00   1/5/17 23:24\n",
      "2   AAAA         ABC        24    1/3/17 4:00   1/5/17 23:24\n",
      "3   AAAA         ABC        12    1/3/17 4:00  1/19/17 15:42\n"
     ]
    }
   ],
   "source": [
    "## filter data\n",
    "destionationSet = ['ABC', 'DEF', 'GHI', 'JKL', 'MNO', 'PQR', 'STU']\n",
    "orders = orders.loc[orders['Destination'].isin(destinationSet)]\n",
    "orders = orders.loc[orders['Quantity']>=5]\n",
    "\n",
    "print '\\nData after filtering:\\n', orders.iloc[0:4]"
   ]
  },
  {
   "cell_type": "markdown",
   "metadata": {},
   "source": [
    "### Operate on Datatimelike columns"
   ]
  },
  {
   "cell_type": "code",
   "execution_count": 95,
   "metadata": {},
   "outputs": [
    {
     "name": "stdout",
     "output_type": "stream",
     "text": [
      "\n",
      "Departure time series:\n",
      "0   2017-01-03 04:00:00\n",
      "1   2017-01-03 04:00:00\n",
      "2   2017-01-03 04:00:00\n",
      "3   2017-01-03 04:00:00\n",
      "Name: Departure_Time, dtype: datetime64[ns]\n"
     ]
    }
   ],
   "source": [
    "## operate on Datatimelike columns\n",
    "departureTime = pd.to_datetime(orders['Departure_Time'], errors='coerce')\n",
    "arrivalTime = pd.to_datetime(orders['Arrival_Time'], errors='coerce')\n",
    "travelTime = (arrivalTime - departureTime).astype('timedelta64[s]')/(3600.0*24.0)\n",
    "print '\\nDeparture time series:\\n', departureTime[0:4]"
   ]
  },
  {
   "cell_type": "markdown",
   "metadata": {
    "collapsed": true
   },
   "source": [
    "### Add columns to the DataFrame"
   ]
  },
  {
   "cell_type": "code",
   "execution_count": 96,
   "metadata": {},
   "outputs": [
    {
     "name": "stdout",
     "output_type": "stream",
     "text": [
      "\n",
      "Data after adding columns:\n",
      "  Origin Destination  Quantity Departure_Time   Arrival_Time  Travel_Time  \\\n",
      "0   AAAA         ABC        24    1/3/17 4:00   1/5/17 23:24     2.808333   \n",
      "1   AAAA         ABC        24    1/3/17 4:00   1/5/17 23:24     2.808333   \n",
      "2   AAAA         ABC        24    1/3/17 4:00   1/5/17 23:24     2.808333   \n",
      "3   AAAA         ABC        12    1/3/17 4:00  1/19/17 15:42    16.487500   \n",
      "\n",
      "  Departure_Date  Departure_Week Departure_DayOfWeek Arrival_Date  \\\n",
      "0     2017-01-03               1                 Tue   2017-01-05   \n",
      "1     2017-01-03               1                 Tue   2017-01-05   \n",
      "2     2017-01-03               1                 Tue   2017-01-05   \n",
      "3     2017-01-03               1                 Tue   2017-01-19   \n",
      "\n",
      "   Arrival_Week Arrival_DayOfWeek  \n",
      "0             1               Thu  \n",
      "1             1               Thu  \n",
      "2             1               Thu  \n",
      "3             3               Thu  \n"
     ]
    }
   ],
   "source": [
    "## add columns to the DataFrame\n",
    "orders.loc[:, 'Travel_Time'] = travelTime\n",
    "orders.loc[:, 'Departure_Date'] = departureTime.dt.date # just keep the date part\n",
    "orders.loc[:, 'Departure_Week'] = departureTime.dt.week # the week of year, index starting from 1\n",
    "orders.loc[:, 'Departure_DayOfWeek'] = departureTime.dt.dayofweek # the day of week, e.g., 0-Mon, 4-Thu\n",
    "orders.loc[:, 'Arrival_Date'] = arrivalTime.dt.date\n",
    "orders.loc[:, 'Arrival_Week'] = arrivalTime.dt.week\n",
    "orders.loc[:, 'Arrival_DayOfWeek'] = arrivalTime.dt.dayofweek\n",
    "dayOfWeek = ['Mon','Tue','Wed','Thu','Fri','Sat','Sun']\n",
    "orders['Departure_DayOfWeek'] = orders['Departure_DayOfWeek'].apply(lambda x : dayOfWeek[x])\n",
    "orders['Arrival_DayOfWeek'] = orders['Arrival_DayOfWeek'].apply(lambda x : dayOfWeek[x])\n",
    "\n",
    "print '\\nData after adding columns:\\n', orders.iloc[0:4]"
   ]
  },
  {
   "cell_type": "markdown",
   "metadata": {},
   "source": [
    "### Sort w.r.t. columns, (1) default order; (2) customized order"
   ]
  },
  {
   "cell_type": "code",
   "execution_count": 103,
   "metadata": {},
   "outputs": [
    {
     "name": "stdout",
     "output_type": "stream",
     "text": [
      "\n",
      "Data after sorting:\n",
      "    Origin Destination  Quantity Departure_Time   Arrival_Time\n",
      "9     AAAA         ABC        54   1/10/17 4:00  1/12/17 20:09\n",
      "10    AAAA         ABC        12   1/10/17 4:00  1/26/17 20:10\n",
      "11    AAAA         ABC        18   1/10/17 4:00  1/12/17 20:09\n",
      "12    AAAA         ABC        50   1/16/17 4:00  1/26/17 20:10\n",
      "13    AAAA         ABC        84   1/17/17 4:00  1/19/17 15:42\n",
      "14    AAAA         ABC        24   1/17/17 4:00  1/19/17 15:42\n",
      "15    AAAA         ABC        24   1/17/17 4:00  1/26/17 20:10\n",
      "16    AAAA         ABC        24   1/17/17 4:00  1/19/17 15:42\n",
      "17    AAAA         ABC        32   1/18/17 4:00  1/26/17 20:10\n",
      "18    AAAA         ABC       168   1/23/17 4:00  1/26/17 20:10\n",
      "19    AAAA         ABC         6   1/24/17 4:00  1/26/17 20:10\n",
      "20    AAAA         ABC       188   1/24/17 4:00  1/26/17 20:10\n",
      "21    AAAA         ABC       647   1/24/17 4:00  1/26/17 20:10\n",
      "22    AAAA         ABC         6   1/25/17 3:10    2/4/17 7:57\n",
      "23    AAAA         ABC        16   1/25/17 4:00   2/9/17 20:01\n",
      "24    AAAA         ABC        24   1/25/17 4:00   2/2/17 20:04\n",
      "25    AAAA         ABC        24   1/26/17 4:00   2/2/17 20:04\n",
      "0     AAAA         ABC        24    1/3/17 4:00   1/5/17 23:24\n",
      "1     AAAA         ABC        24    1/3/17 4:00   1/5/17 23:24\n",
      "2     AAAA         ABC        24    1/3/17 4:00   1/5/17 23:24\n",
      "3     AAAA         ABC        12    1/3/17 4:00  1/19/17 15:42\n",
      "4     AAAA         ABC        96    1/3/17 4:00  1/12/17 20:09\n",
      "5     AAAA         ABC        12    1/3/17 4:00   1/5/17 23:24\n",
      "6     AAAA         ABC        48    1/3/17 4:00  1/20/17 20:10\n",
      "26    AAAA         ABC        24   1/30/17 4:00   2/2/17 20:04\n",
      "7     AAAA         ABC       144    1/4/17 4:00  1/12/17 20:09\n",
      "8     AAAA         ABC        36    1/9/17 4:00  1/12/17 20:09\n",
      "31    AAAA         ABC        24   2/13/17 4:00  2/16/17 19:55\n",
      "32    AAAA         ABC        36   2/13/17 4:00  2/16/17 19:55\n",
      "33    AAAA         ABC        24   2/13/17 4:00  2/16/17 19:55\n",
      "..     ...         ...       ...            ...            ...\n",
      "824   DDDD         STU       180  1/30/17 11:52  3/13/17 19:22\n",
      "825   DDDD         STU        30  1/30/17 11:53   2/18/17 8:00\n",
      "826   DDDD         STU        60  1/30/17 11:55   2/9/17 19:28\n",
      "820   DDDD         STU       120   1/30/17 4:00    2/7/17 9:54\n",
      "827   DDDD         STU       180   2/13/17 4:00  2/17/17 19:26\n",
      "828   DDDD         STU        82   2/20/17 4:00  2/27/17 19:50\n",
      "767   DDDD         VWX        16   1/12/17 4:00  1/18/17 11:34\n",
      "768   DDDD         VWX        18   1/16/17 4:00  1/20/17 20:01\n",
      "769   DDDD         VWX        10   1/16/17 4:00  1/20/17 12:39\n",
      "770   DDDD         VWX       294   1/16/17 4:00  1/20/17 20:01\n",
      "771   DDDD         VWX        48   1/19/17 4:00  1/25/17 12:12\n",
      "772   DDDD         VWX       419   1/23/17 4:00  1/27/17 12:45\n",
      "773   DDDD         VWX        12   1/23/17 4:00  1/27/17 12:45\n",
      "776   DDDD         VWX        48  1/26/17 16:48   2/1/17 12:37\n",
      "774   DDDD         VWX        40   1/26/17 4:00   2/1/17 12:37\n",
      "775   DDDD         VWX        12   1/26/17 4:00   2/1/17 12:37\n",
      "778   DDDD         VWX       129  1/30/17 10:45   2/3/17 12:49\n",
      "777   DDDD         VWX       396   1/30/17 4:00   2/3/17 11:34\n",
      "765   DDDD         VWX        40    1/5/17 4:00   1/11/17 8:37\n",
      "766   DDDD         VWX       606    1/9/17 4:00  1/13/17 11:14\n",
      "784   DDDD         VWX       186   2/13/17 4:00  2/16/17 22:28\n",
      "785   DDDD         VWX       150   2/13/17 4:00  2/17/17 11:57\n",
      "779   DDDD         VWX        80    2/2/17 4:00   2/8/17 11:10\n",
      "786   DDDD         VWX        19   2/20/17 4:00  2/24/17 10:36\n",
      "787   DDDD         VWX         5   2/20/17 4:00  2/24/17 10:36\n",
      "788   DDDD         VWX       314   2/20/17 4:00  2/24/17 10:36\n",
      "780   DDDD         VWX       300    2/6/17 4:00  2/10/17 12:16\n",
      "781   DDDD         VWX        24   2/7/17 14:27  2/10/17 12:16\n",
      "782   DDDD         VWX         6    2/9/17 4:00   2/15/17 8:43\n",
      "783   DDDD         VWX        16    2/9/17 4:00   2/15/17 8:43\n",
      "\n",
      "[829 rows x 5 columns]\n",
      "\n",
      "Data after sorting:\n",
      "   Origin Destination Departure_DayOfWeek  Quantity\n",
      "0    AAAA         ABC                 Mon       374\n",
      "2    AAAA         ABC                 Tue      2522\n",
      "3    AAAA         ABC                 Wed       951\n",
      "1    AAAA         ABC                 Thu        48\n",
      "6    AAAA         DEF                 Tue         8\n",
      "5    AAAA         DEF                 Thu        75\n",
      "4    AAAA         DEF                 Fri        15\n",
      "7    AAAA         GHI                 Mon       272\n",
      "8    AAAA         MNO                 Thu       105\n",
      "9    AAAA         PQR                 Thu       221\n",
      "10   AAAA         STU                 Mon       616\n",
      "11   AAAA         VWX                 Mon      2634\n",
      "13   AAAA         VWX                 Tue         9\n",
      "12   AAAA         VWX                 Thu       139\n",
      "15   BBBB         ABC                 Mon       899\n",
      "17   BBBB         ABC                 Tue      5475\n",
      "18   BBBB         ABC                 Wed      1596\n",
      "16   BBBB         ABC                 Thu        54\n",
      "14   BBBB         ABC                 Fri        60\n",
      "21   BBBB         DEF                 Tue        28\n",
      "20   BBBB         DEF                 Thu        75\n",
      "19   BBBB         DEF                 Fri        33\n",
      "22   BBBB         GHI                 Mon       450\n",
      "23   BBBB         JKL                 Mon       650\n",
      "25   BBBB         JKL                 Tue        60\n",
      "26   BBBB         JKL                 Wed       412\n",
      "24   BBBB         JKL                 Thu        16\n",
      "27   BBBB         MNO                 Mon        80\n",
      "28   BBBB         MNO                 Thu       150\n",
      "29   BBBB         PQR                 Thu       716\n",
      "..    ...         ...                 ...       ...\n",
      "44   CCCC         JKL                 Thu        10\n",
      "47   CCCC         MNO                 Mon       299\n",
      "48   CCCC         MNO                 Thu      1521\n",
      "49   CCCC         PQR                 Mon      1042\n",
      "50   CCCC         PQR                 Thu      5159\n",
      "51   CCCC         STU                 Mon       976\n",
      "53   CCCC         VWX                 Mon      8975\n",
      "55   CCCC         VWX                 Tue       273\n",
      "54   CCCC         VWX                 Thu       801\n",
      "52   CCCC         VWX                 Fri       147\n",
      "56   DDDD         ABC                 Mon       348\n",
      "58   DDDD         ABC                 Tue      5500\n",
      "59   DDDD         ABC                 Wed      2248\n",
      "57   DDDD         ABC                 Thu        64\n",
      "61   DDDD         DEF                 Mon        30\n",
      "63   DDDD         DEF                 Tue        44\n",
      "64   DDDD         DEF                 Wed        28\n",
      "62   DDDD         DEF                 Thu       350\n",
      "60   DDDD         DEF                 Fri        30\n",
      "65   DDDD         JKL                 Mon      1697\n",
      "67   DDDD         JKL                 Tue       688\n",
      "68   DDDD         JKL                 Wed      1144\n",
      "66   DDDD         JKL                 Thu        36\n",
      "69   DDDD         MNO                 Thu       132\n",
      "70   DDDD         PQR                 Mon       229\n",
      "71   DDDD         PQR                 Thu       611\n",
      "72   DDDD         STU                 Mon      2339\n",
      "73   DDDD         VWX                 Mon      2858\n",
      "75   DDDD         VWX                 Tue        24\n",
      "74   DDDD         VWX                 Thu       306\n",
      "\n",
      "[76 rows x 4 columns]\n"
     ]
    }
   ],
   "source": [
    "## sort w.r.t. columns in default order: numeric/time/alphabetical\n",
    "orders.sort_values(by=['Origin', 'Destination', 'Departure_Time'], inplace=True)\n",
    "print '\\nData after sorting:\\n', orders[['Origin','Destination','Quantity','Departure_Time','Arrival_Time']]\n",
    "\n",
    "## sort w.r.t. columns in customized order:\n",
    "dayOfWeek = ['Mon','Tue','Wed','Thu','Fri','Sat','Sun']\n",
    "sortedOrders = orders.groupby(by=['Origin','Destination','Departure_DayOfWeek'])['Quantity'].sum().reset_index()\n",
    "# order by Departure_DayOfWeek\n",
    "sortedOrders['Departure_DayOfWeek'] = sortedOrders['Departure_DayOfWeek'].astype('category')\n",
    "sortedOrders['Departure_DayOfWeek'].cat.set_categories(dayOfWeek, inplace=True)\n",
    "sortedOrders.sort_values(by=['Origin','Destination','Departure_DayOfWeek'], ascending=[True, True, True], inplace=True)\n",
    "print '\\nData after sorting:\\n', sortedOrders"
   ]
  },
  {
   "cell_type": "markdown",
   "metadata": {},
   "source": [
    "### Groupby functions: (1) single groupby; (2) multiple groupby"
   ]
  },
  {
   "cell_type": "code",
   "execution_count": 98,
   "metadata": {},
   "outputs": [
    {
     "name": "stdout",
     "output_type": "stream",
     "text": [
      "\n",
      "Data after group by single function:\n",
      "   Origin Destination  Quantity\n",
      "0    AAAA         ABC      3895\n",
      "1    AAAA         DEF        98\n",
      "2    AAAA         GHI       272\n",
      "3    AAAA         MNO       105\n",
      "4    AAAA         PQR       221\n",
      "5    AAAA         STU       616\n",
      "6    AAAA         VWX      2782\n",
      "7    BBBB         ABC      8084\n",
      "8    BBBB         DEF       136\n",
      "9    BBBB         GHI       450\n",
      "10   BBBB         JKL      1138\n",
      "11   BBBB         MNO       230\n",
      "12   BBBB         PQR       716\n",
      "13   BBBB         STU      1068\n",
      "14   BBBB         VWX      3015\n",
      "15   CCCC         ABC     18908\n",
      "16   CCCC         DEF        15\n",
      "17   CCCC         GHI      1175\n",
      "18   CCCC         JKL      1944\n",
      "19   CCCC         MNO      1820\n",
      "20   CCCC         PQR      6201\n",
      "21   CCCC         STU       976\n",
      "22   CCCC         VWX     10196\n",
      "23   DDDD         ABC      8160\n",
      "24   DDDD         DEF       482\n",
      "25   DDDD         JKL      3565\n",
      "26   DDDD         MNO       132\n",
      "27   DDDD         PQR       840\n",
      "28   DDDD         STU      2339\n",
      "29   DDDD         VWX      3188\n",
      "\n",
      "Data after group by multiple functions:\n",
      "   Origin_ Destination_  Travel_Time_mean  Travel_Time_std  Quantity_sum\n",
      "0     AAAA          ABC          7.096145         5.024851          3895\n",
      "1     AAAA          DEF          7.435648         0.440080            98\n",
      "2     AAAA          GHI          3.889583         0.000000           272\n",
      "3     AAAA          MNO          5.472500         0.409199           105\n",
      "4     AAAA          PQR          8.655382         2.096557           221\n",
      "5     AAAA          STU         15.702431        12.512494           616\n",
      "6     AAAA          VWX          6.184268         1.730074          2782\n",
      "7     BBBB          ABC          7.132523         4.827578          8084\n",
      "8     BBBB          DEF          6.164583         0.589064           136\n",
      "9     BBBB          GHI          5.427083         2.294220           450\n",
      "10    BBBB          JKL          7.615301         9.883118          1138\n",
      "11    BBBB          MNO          5.267320         1.154012           230\n",
      "12    BBBB          PQR          8.758929         2.144788           716\n",
      "13    BBBB          STU         16.052708        13.875960          1068\n",
      "14    BBBB          VWX          5.177593         1.263905          3015\n",
      "15    CCCC          ABC          8.242965         5.486232         18908\n",
      "16    CCCC          DEF          4.653472         0.000000            15\n",
      "17    CCCC          GHI          2.574306         0.197022          1175\n",
      "18    CCCC          JKL          6.785130         5.279259          1944\n",
      "19    CCCC          MNO          5.059962         1.010411          1820\n",
      "20    CCCC          PQR          9.035788         2.696098          6201\n",
      "21    CCCC          STU         14.477604        11.737772           976\n",
      "22    CCCC          VWX          7.203502         1.316206         10196\n",
      "23    DDDD          ABC          6.576406         4.500383          8160\n",
      "24    DDDD          DEF          7.957986         4.829613           482\n",
      "25    DDDD          JKL          7.370335         8.747746          3565\n",
      "26    DDDD          MNO          5.258750         0.283791           132\n",
      "27    DDDD          PQR          8.905382         2.473040           840\n",
      "28    DDDD          STU         15.882465        13.045690          2339\n",
      "29    DDDD          VWX          4.974624         1.051541          3188\n"
     ]
    }
   ],
   "source": [
    "# use of single groupby function\n",
    "ordersByOriDesPair = orders.groupby(by=['Origin', 'Destination'])['Quantity'].sum().reset_index()\n",
    "print '\\nData after group by single function:\\n', ordersByOriDesPair\n",
    "\n",
    "# use of multiple groupby functions\n",
    "groupByFuns = {'Quantity': ['sum'], 'Travel_Time': ['mean', 'std']}\n",
    "ordersByMultiGroupby = orders.groupby(by=['Origin', 'Destination']).agg(groupByFuns).reset_index()\n",
    "ordersByMultiGroupby.fillna(0.0, inplace=True)\n",
    "\n",
    "# # drop the outermost level from the hierarchical column index\n",
    "# ordersByMultiGroupby.columns = ordersByMultiGroupby.columns.droplevel(0)\n",
    "\n",
    "# form multi-level column labels\n",
    "newLabels = ['_'.join(col) for col in ordersByMultiGroupby.columns.ravel()]\n",
    "ordersByMultiGroupby.columns = newLabels\n",
    "print '\\nData after group by multiple functions:\\n', ordersByMultiGroupby"
   ]
  },
  {
   "cell_type": "markdown",
   "metadata": {},
   "source": [
    "### Unstack function"
   ]
  },
  {
   "cell_type": "code",
   "execution_count": 122,
   "metadata": {},
   "outputs": [
    {
     "name": "stdout",
     "output_type": "stream",
     "text": [
      "\n",
      "Data unstacked by DayOfWeek:\n",
      "                      Quantity                              \n",
      "Departure_DayOfWeek        Mon     Tue    Wed     Thu    Fri\n",
      "Origin Departure_Week                                       \n",
      "AAAA   1                   0.0   240.0  144.0   120.0    0.0\n",
      "       2                 462.0    84.0    0.0    50.0    0.0\n",
      "       3                 794.0   156.0   32.0    37.0    0.0\n",
      "       4                 814.0   849.0   46.0    72.0    0.0\n",
      "       5                 406.0     0.0    0.0   115.0    0.0\n",
      "       6                 514.0   777.0  272.0   117.0    0.0\n",
      "       7                 432.0   229.0  253.0    40.0    0.0\n",
      "       8                 474.0   204.0  204.0    37.0   15.0\n",
      "BBBB   1                   0.0   482.0  288.0   374.0    0.0\n",
      "       2                 814.0   348.0   84.0   118.0    0.0\n",
      "       3                1134.0   393.0  172.0   135.0   60.0\n",
      "       4                1247.0   869.0  232.0   146.0   18.0\n",
      "       5                1079.0     0.0   74.0   107.0    0.0\n",
      "       6                 541.0  1653.0   60.0   124.0    0.0\n",
      "       7                 641.0  1039.0  693.0   148.0    0.0\n",
      "       8                 333.0   838.0  453.0   101.0   39.0\n",
      "CCCC   1                   0.0  1231.0   84.0  3348.0   15.0\n",
      "       2                2077.0  1155.0  108.0   370.0    0.0\n",
      "       3                1003.0  2092.0  177.0   384.0    0.0\n",
      "       4                1904.0  1552.0  497.0   781.0    0.0\n",
      "       5                2918.0    69.0  120.0   623.0    0.0\n",
      "       6                1690.0  3370.0  496.0   711.0    0.0\n",
      "       7                2285.0  2485.0  923.0   915.0    0.0\n",
      "       8                2793.0  3708.0  773.0   431.0  147.0\n",
      "DDDD   1                   0.0   602.0  276.0   372.0    0.0\n",
      "       2                1027.0   162.0   26.0    46.0    0.0\n",
      "       3                 584.0   205.0  478.0    96.0    0.0\n",
      "       4                1846.0   596.0  660.0   136.0    0.0\n",
      "       5                1943.0     0.0  372.0   494.0    0.0\n",
      "       6                 433.0  3350.0  286.0   153.0    0.0\n",
      "       7                1110.0   893.0  551.0    66.0    0.0\n",
      "       8                 558.0   448.0  771.0   136.0   30.0\n",
      "\n",
      "Data unstacked by Week:\n",
      "                           Quantity                                          \\\n",
      "Departure_Week                    1       2       3       4       5       6   \n",
      "Origin Departure_DayOfWeek                                                    \n",
      "AAAA   Mon                      0.0   462.0   794.0   814.0   406.0   514.0   \n",
      "       Tue                    240.0    84.0   156.0   849.0     0.0   777.0   \n",
      "       Wed                    144.0     0.0    32.0    46.0     0.0   272.0   \n",
      "       Thu                    120.0    50.0    37.0    72.0   115.0   117.0   \n",
      "       Fri                      0.0     0.0     0.0     0.0     0.0     0.0   \n",
      "BBBB   Mon                      0.0   814.0  1134.0  1247.0  1079.0   541.0   \n",
      "       Tue                    482.0   348.0   393.0   869.0     0.0  1653.0   \n",
      "       Wed                    288.0    84.0   172.0   232.0    74.0    60.0   \n",
      "       Thu                    374.0   118.0   135.0   146.0   107.0   124.0   \n",
      "       Fri                      0.0     0.0    60.0    18.0     0.0     0.0   \n",
      "CCCC   Mon                      0.0  2077.0  1003.0  1904.0  2918.0  1690.0   \n",
      "       Tue                   1231.0  1155.0  2092.0  1552.0    69.0  3370.0   \n",
      "       Wed                     84.0   108.0   177.0   497.0   120.0   496.0   \n",
      "       Thu                   3348.0   370.0   384.0   781.0   623.0   711.0   \n",
      "       Fri                     15.0     0.0     0.0     0.0     0.0     0.0   \n",
      "DDDD   Mon                      0.0  1027.0   584.0  1846.0  1943.0   433.0   \n",
      "       Tue                    602.0   162.0   205.0   596.0     0.0  3350.0   \n",
      "       Wed                    276.0    26.0   478.0   660.0   372.0   286.0   \n",
      "       Thu                    372.0    46.0    96.0   136.0   494.0   153.0   \n",
      "       Fri                      0.0     0.0     0.0     0.0     0.0     0.0   \n",
      "\n",
      "                                            \n",
      "Departure_Week                   7       8  \n",
      "Origin Departure_DayOfWeek                  \n",
      "AAAA   Mon                   432.0   474.0  \n",
      "       Tue                   229.0   204.0  \n",
      "       Wed                   253.0   204.0  \n",
      "       Thu                    40.0    37.0  \n",
      "       Fri                     0.0    15.0  \n",
      "BBBB   Mon                   641.0   333.0  \n",
      "       Tue                  1039.0   838.0  \n",
      "       Wed                   693.0   453.0  \n",
      "       Thu                   148.0   101.0  \n",
      "       Fri                     0.0    39.0  \n",
      "CCCC   Mon                  2285.0  2793.0  \n",
      "       Tue                  2485.0  3708.0  \n",
      "       Wed                   923.0   773.0  \n",
      "       Thu                   915.0   431.0  \n",
      "       Fri                     0.0   147.0  \n",
      "DDDD   Mon                  1110.0   558.0  \n",
      "       Tue                   893.0   448.0  \n",
      "       Wed                   551.0   771.0  \n",
      "       Thu                    66.0   136.0  \n",
      "       Fri                     0.0    30.0  \n"
     ]
    }
   ],
   "source": [
    "## unstack function\n",
    "dayOfWeek = ['Mon','Tue','Wed','Thu','Fri','Sat','Sun']\n",
    "ordersByOrigin = orders.groupby(by=['Origin', 'Departure_Week', 'Departure_DayOfWeek'])['Quantity'].sum().reset_index()\n",
    "\n",
    "# order by Departure_DayOfWeek first\n",
    "ordersByOrigin['Departure_DayOfWeek'] = ordersByOrigin['Departure_DayOfWeek'].astype('category')\n",
    "ordersByOrigin['Departure_DayOfWeek'].cat.set_categories(dayOfWeek, inplace=True)\n",
    "\n",
    "# unstack by Departure_DayOfWeek\n",
    "unstackByDayofweek = ordersByOrigin.set_index(['Origin', 'Departure_Week', 'Departure_DayOfWeek'])\n",
    "unstackByDayofweek = unstackByDayofweek.unstack('Departure_DayOfWeek')\n",
    "unstackByDayofweek.fillna(0.0, inplace=True)\n",
    "print '\\nData unstacked by DayOfWeek:\\n', unstackByDayofweek\n",
    "\n",
    "# unstack by Departure_Week\n",
    "unstackByWeek = ordersByOrigin.set_index(['Origin', 'Departure_DayOfWeek', 'Departure_Week'])\n",
    "unstackByWeek = unstackByWeek.unstack('Departure_Week')\n",
    "unstackByWeek.fillna(0.0, inplace=True)\n",
    "print '\\nData unstacked by Week:\\n', unstackByWeek"
   ]
  },
  {
   "cell_type": "code",
   "execution_count": null,
   "metadata": {
    "collapsed": true
   },
   "outputs": [],
   "source": []
  }
 ],
 "metadata": {
  "kernelspec": {
   "display_name": "Python 2",
   "language": "python",
   "name": "python2"
  },
  "language_info": {
   "codemirror_mode": {
    "name": "ipython",
    "version": 2
   },
   "file_extension": ".py",
   "mimetype": "text/x-python",
   "name": "python",
   "nbconvert_exporter": "python",
   "pygments_lexer": "ipython2",
   "version": "2.7.13"
  }
 },
 "nbformat": 4,
 "nbformat_minor": 2
}
