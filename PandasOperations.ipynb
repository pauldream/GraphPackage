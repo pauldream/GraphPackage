{
 "cells": [
  {
   "cell_type": "markdown",
   "metadata": {},
   "source": [
    "# Use pandas to process data using several basic operations"
   ]
  },
  {
   "cell_type": "code",
   "execution_count": null,
   "metadata": {
    "collapsed": true
   },
   "outputs": [],
   "source": [
    "import numpy as np\n",
    "import pandas as pd\n",
    "import matplotlib.pyplot as plt"
   ]
  },
  {
   "cell_type": "markdown",
   "metadata": {},
   "source": [
    "### Append and Concatenate (rows) DataFrames"
   ]
  },
  {
   "cell_type": "code",
   "execution_count": null,
   "metadata": {},
   "outputs": [],
   "source": [
    "# read input file\n",
    "input_file1 = 'data/pandas_data_example1.csv'\n",
    "input_file2 = 'data/pandas_data_example2.csv'\n",
    "orders1 = pd.read_csv(input_file1, encoding='utf-8-sig')\n",
    "orders2 = pd.read_csv(input_file2, encoding='utf-8-sig')\n",
    "\n",
    "# concatenate one dataframe to another dataframe\n",
    "orders = pd.concat([orders1, orders2], axis=0, ignore_index=True)\n",
    "print '\\nData after contenating:\\n', orders\n",
    "\n",
    "# append one row to the dataframe\n",
    "row = orders.iloc[0]\n",
    "orders = orders.append(row, ignore_index=True)\n",
    "print '\\nData after appending:\\n', orders.tail(10)\n",
    "\n",
    "# delete the last row from the dataframe\n",
    "orders.drop(orders.index[len(orders.index)-1], inplace=True)\n",
    "print '\\nData after deleting:\\n', orders.tail(10)"
   ]
  },
  {
   "cell_type": "markdown",
   "metadata": {},
   "source": [
    "### Update column names and Obtain the set of unique values of a particular column"
   ]
  },
  {
   "cell_type": "code",
   "execution_count": null,
   "metadata": {},
   "outputs": [],
   "source": [
    "# print DataFrame information\n",
    "print '\\nIndex names:\\n', orders.index\n",
    "print '\\nColumns names:\\n', orders.columns\n",
    "print '\\nDataFrame values:\\n', orders.values\n",
    "\n",
    "# update column name\n",
    "newColumns = {'Departure': 'Departure_Time', 'Arrival': 'Arrival_Time'}\n",
    "orders.rename(columns=newColumns, inplace=True)\n",
    "print '\\nColumns names:\\n', orders.columns\n",
    "\n",
    "# print the set of unique values of a particular column\n",
    "originSet = orders['Origin'].unique()\n",
    "destinationSet = orders['Destination'].unique()\n",
    "print '\\nOrigin Set:\\n', originSet\n",
    "print '\\nDestination Set:\\n', destinationSet\n",
    "print '\\nExample rows of original data:\\n', orders.head(4)\n",
    "print orders.tail(4)"
   ]
  },
  {
   "cell_type": "markdown",
   "metadata": {},
   "source": [
    "### Iterate through the DataFrame"
   ]
  },
  {
   "cell_type": "code",
   "execution_count": null,
   "metadata": {},
   "outputs": [],
   "source": [
    "for index, row in orders.iterrows():\n",
    "    if row['Destination'] == 'GHI':\n",
    "        print index, row['Origin'], row['Destination'], row['Quantity']"
   ]
  },
  {
   "cell_type": "markdown",
   "metadata": {},
   "source": [
    "### Obtain the origins with the largest quantities"
   ]
  },
  {
   "cell_type": "code",
   "execution_count": null,
   "metadata": {},
   "outputs": [],
   "source": [
    "ordersByOrigin = orders.groupby(by=['Origin'])['Quantity'].sum().reset_index()\n",
    "ordersByOrigin.sort_values(by=['Quantity'], ascending=False, inplace=True)\n",
    "origins = ordersByOrigin.head(3)['Origin']\n",
    "print origins.values"
   ]
  },
  {
   "cell_type": "markdown",
   "metadata": {},
   "source": [
    "### Apply function to a particular column"
   ]
  },
  {
   "cell_type": "code",
   "execution_count": null,
   "metadata": {},
   "outputs": [],
   "source": [
    "## apply function to a particular column\n",
    "newOriginSet = ['AAAA', 'BBBB', 'CCCC', 'DDDD']\n",
    "originMap = {x : y for (x, y) in zip(originSet, newOriginSet)} # dict(zip(originSet, newOriginSet))\n",
    "orders['Origin'] = orders['Origin'].apply(lambda x: originMap[x] if x in originMap else x)\n",
    "print '\\nData after updating column names:\\n', orders.iloc[0:4]"
   ]
  },
  {
   "cell_type": "markdown",
   "metadata": {},
   "source": [
    "### Filter data under some criteria"
   ]
  },
  {
   "cell_type": "code",
   "execution_count": null,
   "metadata": {},
   "outputs": [],
   "source": [
    "## filter data\n",
    "destinationSet = ['DEF', 'GHI', 'JKL', 'MNO', 'PQR', 'STU']\n",
    "destinationFilter = orders['Destination'].isin(destinationSet)\n",
    "quantityFilter = orders['Quantity']>=5\n",
    "orders = orders.loc[destinationFilter & quantityFilter]\n",
    "print '\\nData after filtering:\\n', orders.iloc[0:4]"
   ]
  },
  {
   "cell_type": "markdown",
   "metadata": {},
   "source": [
    "### Operate on Datatimelike columns"
   ]
  },
  {
   "cell_type": "code",
   "execution_count": null,
   "metadata": {},
   "outputs": [],
   "source": [
    "## operate on Datatimelike columns\n",
    "departureTime = pd.to_datetime(orders['Departure_Time'], errors='coerce')\n",
    "arrivalTime = pd.to_datetime(orders['Arrival_Time'], errors='coerce')\n",
    "travelTime = (arrivalTime - departureTime).astype('timedelta64[s]')/(3600.0*24.0)\n",
    "print '\\nDeparture time series:\\n', departureTime[0:4]"
   ]
  },
  {
   "cell_type": "markdown",
   "metadata": {
    "collapsed": true
   },
   "source": [
    "### Add and Drop columns to the DataFrame"
   ]
  },
  {
   "cell_type": "code",
   "execution_count": null,
   "metadata": {},
   "outputs": [],
   "source": [
    "## drop columns from the DataFrame\n",
    "quantity = orders['Quantity']\n",
    "orders.drop('Quantity', axis=1, inplace=True)\n",
    "print '\\nData after droping columns:\\n', orders.head(5)\n",
    "\n",
    "## add columns to the DataFrame\n",
    "orders.loc[:, 'Quantity'] = quantity\n",
    "orders.loc[:, 'Travel_Time'] = travelTime\n",
    "orders.loc[:, 'Departure_Date'] = departureTime.dt.date # just keep the date part\n",
    "orders.loc[:, 'Departure_Week'] = departureTime.dt.week # the week of year, index starting from 1\n",
    "orders.loc[:, 'Departure_DayOfWeek'] = departureTime.dt.dayofweek # the day of week, e.g., 0-Mon, 4-Thu\n",
    "orders.loc[:, 'Arrival_Date'] = arrivalTime.dt.date\n",
    "orders.loc[:, 'Arrival_Week'] = arrivalTime.dt.week\n",
    "orders.loc[:, 'Arrival_DayOfWeek'] = arrivalTime.dt.dayofweek\n",
    "dayOfWeek = ['Mon','Tue','Wed','Thu','Fri','Sat','Sun']\n",
    "orders['Departure_DayOfWeek'] = orders['Departure_DayOfWeek'].apply(lambda x : dayOfWeek[x])\n",
    "orders['Arrival_DayOfWeek'] = orders['Arrival_DayOfWeek'].apply(lambda x : dayOfWeek[x])\n",
    "\n",
    "print '\\nData after adding columns:\\n', orders.head(5)"
   ]
  },
  {
   "cell_type": "markdown",
   "metadata": {},
   "source": [
    "### Pivot tables"
   ]
  },
  {
   "cell_type": "code",
   "execution_count": null,
   "metadata": {},
   "outputs": [],
   "source": [
    "## Construct a pivot table, something like unstack function\n",
    "tempOrders = orders[['Origin','Destination','Quantity','Departure_Week']]\n",
    "pivotTable = pd.pivot_table(tempOrders, values='Quantity', index=['Origin','Destination'], columns=['Departure_Week'])\n",
    "pivotTable.fillna(value=0.0, inplace=True)\n",
    "print pivotTable"
   ]
  },
  {
   "cell_type": "markdown",
   "metadata": {},
   "source": [
    "### Sort w.r.t. columns, (1) default order; (2) customized order"
   ]
  },
  {
   "cell_type": "code",
   "execution_count": null,
   "metadata": {
    "scrolled": false
   },
   "outputs": [],
   "source": [
    "## sort w.r.t. columns in default order: numeric/time/alphabetical\n",
    "orders.sort_values(by=['Origin', 'Destination', 'Departure_Time'], inplace=True)\n",
    "print '\\nData after sorting:\\n', orders[['Origin','Destination','Quantity','Departure_Time','Arrival_Time']]\n",
    "\n",
    "## sort w.r.t. columns in customized order:\n",
    "dayOfWeek = ['Mon','Tue','Wed','Thu','Fri','Sat','Sun']\n",
    "sortedOrders = orders.groupby(by=['Origin','Destination','Departure_DayOfWeek'])['Quantity'].sum().reset_index()\n",
    "\n",
    "# order by Departure_DayOfWeek\n",
    "sortedOrders['Departure_DayOfWeek'] = sortedOrders['Departure_DayOfWeek'].astype('category')\n",
    "sortedOrders['Departure_DayOfWeek'].cat.set_categories(dayOfWeek, inplace=True)\n",
    "sortedOrders.sort_values(by=['Origin','Destination','Departure_DayOfWeek'], ascending=[True, True, True], inplace=True)\n",
    "print '\\nData after sorting:\\n', sortedOrders"
   ]
  },
  {
   "cell_type": "markdown",
   "metadata": {},
   "source": [
    "### Groupby functions: (1) single groupby; (2) multiple groupby"
   ]
  },
  {
   "cell_type": "code",
   "execution_count": null,
   "metadata": {},
   "outputs": [],
   "source": [
    "# use of single groupby function\n",
    "ordersByOriDesPair = orders.groupby(by=['Origin', 'Destination'])['Quantity'].sum().reset_index()\n",
    "print '\\nData after group by single function:\\n', ordersByOriDesPair\n",
    "\n",
    "# use of multiple groupby functions\n",
    "# Pandas includes multiple built in functions such as sum/mean/std/max/min\n",
    "groupByFuns = {'Quantity': ['sum'], 'Travel_Time': ['mean', 'std']}\n",
    "ordersByMultiGroupby = orders.groupby(by=['Origin', 'Destination']).agg(groupByFuns).reset_index()\n",
    "ordersByMultiGroupby.fillna(0.0, inplace=True)\n",
    "\n",
    "# # drop the outermost level from the hierarchical column index\n",
    "# ordersByMultiGroupby.columns = ordersByMultiGroupby.columns.droplevel(0)\n",
    "\n",
    "# form multi-level column labels\n",
    "newLabels = ['_'.join(col) for col in ordersByMultiGroupby.columns.ravel()]\n",
    "ordersByMultiGroupby.columns = newLabels\n",
    "print '\\nData after group by multiple functions:\\n', ordersByMultiGroupby"
   ]
  },
  {
   "cell_type": "markdown",
   "metadata": {},
   "source": [
    "### Unstack function"
   ]
  },
  {
   "cell_type": "code",
   "execution_count": null,
   "metadata": {},
   "outputs": [],
   "source": [
    "## unstack function\n",
    "dayOfWeek = ['Mon','Tue','Wed','Thu','Fri','Sat','Sun']\n",
    "ordersByOrigin = orders.groupby(by=['Origin', 'Departure_Week', 'Departure_DayOfWeek'])['Quantity'].sum().reset_index()\n",
    "\n",
    "# order by Departure_DayOfWeek first\n",
    "ordersByOrigin['Departure_DayOfWeek'] = ordersByOrigin['Departure_DayOfWeek'].astype('category')\n",
    "ordersByOrigin['Departure_DayOfWeek'].cat.set_categories(dayOfWeek, inplace=True)\n",
    "\n",
    "# unstack by Departure_DayOfWeek\n",
    "unstackByDayofweek = ordersByOrigin.set_index(['Origin', 'Departure_Week', 'Departure_DayOfWeek'])\n",
    "unstackByDayofweek = unstackByDayofweek.unstack('Departure_DayOfWeek')\n",
    "unstackByDayofweek.fillna(0.0, inplace=True)\n",
    "print '\\nData unstacked by DayOfWeek:\\n', unstackByDayofweek\n",
    "\n",
    "# unstack by Departure_Week\n",
    "unstackByWeek = ordersByOrigin.set_index(['Origin', 'Departure_DayOfWeek', 'Departure_Week'])\n",
    "unstackByWeek = unstackByWeek.unstack('Departure_Week')\n",
    "unstackByWeek.fillna(0.0, inplace=True)\n",
    "print '\\nData unstacked by Week:\\n', unstackByWeek"
   ]
  },
  {
   "cell_type": "markdown",
   "metadata": {
    "collapsed": true
   },
   "source": [
    "### Merge function"
   ]
  },
  {
   "cell_type": "code",
   "execution_count": null,
   "metadata": {},
   "outputs": [],
   "source": [
    "## performing a database-style join operation by columns or indexes\n",
    "orders1 = orders.loc[orders['Origin'].isin(['AAAA','BBBB'])]\n",
    "orders2 = orders.loc[orders['Origin'].isin(['BBBB','CCCC'])]\n",
    "newOrders = orders1.merge(orders2, how='inner', on=['Origin', 'Destination'])\n",
    "print newOrders"
   ]
  },
  {
   "cell_type": "markdown",
   "metadata": {},
   "source": [
    "### Weighted average function"
   ]
  },
  {
   "cell_type": "code",
   "execution_count": null,
   "metadata": {},
   "outputs": [],
   "source": [
    "## weighted average by built-in function\n",
    "ordersByOriDesPair = orders.groupby(by=['Origin','Destination'])\n",
    "avgByOriDesPair = ordersByOriDesPair.apply(lambda x : np.average(x['Travel_Time'], weights=x['Quantity'])).reset_index(name='Avg_Travel_Time')\n",
    "print '\\nWeighted average by built-in function:\\n', avgByOriDesPair\n",
    "\n",
    "## weighted average by customized function\n",
    "def weighted_average(dataframe, value_column, weight_column):\n",
    "    value = dataframe[value_column]\n",
    "    weight = dataframe[weight_column]\n",
    "    try:\n",
    "        return (value*weight).sum()/weight.sum()\n",
    "    except ZeroDivisionError:\n",
    "        return value.mean()\n",
    "\n",
    "ordersByOriDesPair = orders.groupby(by=['Origin','Destination'])\n",
    "avgByOriDesPair = ordersByOriDesPair.apply(weighted_average, 'Travel_Time', 'Quantity').reset_index(name='Avg_Travel_Time')\n",
    "print '\\nWeighted average by customized function:\\n', avgByOriDesPair"
   ]
  },
  {
   "cell_type": "markdown",
   "metadata": {},
   "source": [
    "### Plot time series data"
   ]
  },
  {
   "cell_type": "code",
   "execution_count": null,
   "metadata": {},
   "outputs": [],
   "source": [
    "## plot one time series\n",
    "ordersForAllTrips = orders.groupby(by=['Departure_Time'])['Quantity'].sum().reset_index()\n",
    "ordersForAllTrips.set_index('Departure_Time', inplace=True)\n",
    "ordersForAllTrips.cumsum().plot()\n",
    "print ordersForAllTrips.head(5)\n",
    "plt.show()\n",
    "\n",
    "## plot multiple time series\n",
    "ordersForIndiTrips = orders.groupby(by=['Origin','Departure_Time'])['Quantity'].sum().reset_index()\n",
    "ordersForIndiTrips.set_index(['Departure_Time', 'Origin'], inplace=True)\n",
    "# first unstack the data into the desired form\n",
    "ordersForIndiTrips = ordersForIndiTrips.unstack('Origin')\n",
    "ordersForIndiTrips.fillna(value=0.0, inplace=True)\n",
    "ordersForIndiTrips.columns = ordersForIndiTrips.columns.droplevel(0)\n",
    "ordersForIndiTrips.cumsum().plot()\n",
    "print ordersForIndiTrips.head(5)\n",
    "plt.show()"
   ]
  },
  {
   "cell_type": "code",
   "execution_count": null,
   "metadata": {
    "collapsed": true
   },
   "outputs": [],
   "source": []
  }
 ],
 "metadata": {
  "kernelspec": {
   "display_name": "Python 2",
   "language": "python",
   "name": "python2"
  },
  "language_info": {
   "codemirror_mode": {
    "name": "ipython",
    "version": 2
   },
   "file_extension": ".py",
   "mimetype": "text/x-python",
   "name": "python",
   "nbconvert_exporter": "python",
   "pygments_lexer": "ipython2",
   "version": "2.7.13"
  }
 },
 "nbformat": 4,
 "nbformat_minor": 2
}
